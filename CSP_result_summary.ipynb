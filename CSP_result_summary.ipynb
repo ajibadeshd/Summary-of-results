{
 "cells": [
  {
   "cell_type": "markdown",
   "id": "6df1fc20",
   "metadata": {},
   "source": [
    "# Summary of results: Crystal Structure Prediction"
   ]
  },
  {
   "cell_type": "code",
   "execution_count": null,
   "id": "befe5f85",
   "metadata": {},
   "outputs": [],
   "source": [
    "from IPython import display"
   ]
  },
  {
   "cell_type": "markdown",
   "id": "7105b8f8",
   "metadata": {},
   "source": [
    "\n",
    "$\\textbf{DESCRIPTION:}$   This notebook gives a Quick comparison of some of the results achieved with our new Crystal Structure Prediction method. \n",
    "\n"
   ]
  },
  {
   "cell_type": "code",
   "execution_count": null,
   "id": "36062644",
   "metadata": {},
   "outputs": [],
   "source": []
  }
 ],
 "metadata": {
  "kernelspec": {
   "display_name": "Python 3 (ipykernel)",
   "language": "python",
   "name": "python3"
  },
  "language_info": {
   "codemirror_mode": {
    "name": "ipython",
    "version": 3
   },
   "file_extension": ".py",
   "mimetype": "text/x-python",
   "name": "python",
   "nbconvert_exporter": "python",
   "pygments_lexer": "ipython3",
   "version": "3.8.10"
  }
 },
 "nbformat": 4,
 "nbformat_minor": 5
}
